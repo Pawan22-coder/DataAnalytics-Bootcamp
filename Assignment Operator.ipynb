{
 "cells": [
  {
   "cell_type": "code",
   "execution_count": 3,
   "id": "a92efd85-037b-45a9-b0b3-87d059dc881a",
   "metadata": {},
   "outputs": [
    {
     "name": "stdout",
     "output_type": "stream",
     "text": [
      "x = 20\n",
      "Then x += 5, x = 30\n",
      "Then x -= 3, x = 25\n",
      "Then x *= 2, x = 75\n",
      "Then x /= 4, x = 15.0\n",
      "Then x %= 3, x = 3.0\n"
     ]
    }
   ],
   "source": [
    "x = 20\n",
    "print(\"x =\", x)\n",
    "\n",
    "x += 10\n",
    "print(\"Then x += 5, x =\", x)\n",
    "\n",
    "x -= 5\n",
    "print(\"Then x -= 3, x =\", x)\n",
    "\n",
    "x *= 3\n",
    "print(\"Then x *= 2, x =\", x)\n",
    "\n",
    "x /= 5\n",
    "print(\"Then x /= 4, x =\", x)\n",
    "\n",
    "x %= 6\n",
    "print(\"Then x %= 3, x =\", x)"
   ]
  }
 ],
 "metadata": {
  "kernelspec": {
   "display_name": "Python 3 (ipykernel)",
   "language": "python",
   "name": "python3"
  },
  "language_info": {
   "codemirror_mode": {
    "name": "ipython",
    "version": 3
   },
   "file_extension": ".py",
   "mimetype": "text/x-python",
   "name": "python",
   "nbconvert_exporter": "python",
   "pygments_lexer": "ipython3",
   "version": "3.13.5"
  }
 },
 "nbformat": 4,
 "nbformat_minor": 5
}
