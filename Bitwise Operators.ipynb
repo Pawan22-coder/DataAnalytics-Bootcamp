{
 "cells": [
  {
   "cell_type": "code",
   "execution_count": 1,
   "id": "41c87d9e-0bdc-4d18-81ab-497196f8bb28",
   "metadata": {},
   "outputs": [
    {
     "name": "stdout",
     "output_type": "stream",
     "text": [
      "a = 10\n",
      "b = 4\n",
      "a & b : 0\n",
      "a | b : 14\n",
      "a ^ b : 14\n",
      "~a : -11\n",
      "a << 1 : 20\n",
      "a >> 1 : 5\n"
     ]
    }
   ],
   "source": [
    "a = 10   # 1010 in binary\n",
    "b = 4    # 0100 in binary\n",
    "\n",
    "print(\"a =\", a)\n",
    "print(\"b =\", b)\n",
    "\n",
    "print(\"a & b :\", a & b)   # Bitwise AND\n",
    "print(\"a | b :\", a | b)   # Bitwise OR\n",
    "print(\"a ^ b :\", a ^ b)   # Bitwise XOR\n",
    "print(\"~a :\", ~a)         # Bitwise NOT\n",
    "print(\"a << 1 :\", a << 1) # Left shift\n",
    "print(\"a >> 1 :\", a >> 1) # Right shiftshift"
   ]
  },
  {
   "cell_type": "code",
   "execution_count": null,
   "id": "568a564f-09eb-4cbb-902d-19a4eb74ee26",
   "metadata": {},
   "outputs": [],
   "source": []
  }
 ],
 "metadata": {
  "kernelspec": {
   "display_name": "Python 3 (ipykernel)",
   "language": "python",
   "name": "python3"
  },
  "language_info": {
   "codemirror_mode": {
    "name": "ipython",
    "version": 3
   },
   "file_extension": ".py",
   "mimetype": "text/x-python",
   "name": "python",
   "nbconvert_exporter": "python",
   "pygments_lexer": "ipython3",
   "version": "3.13.5"
  }
 },
 "nbformat": 4,
 "nbformat_minor": 5
}
