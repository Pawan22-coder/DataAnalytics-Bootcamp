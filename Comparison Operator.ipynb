{
 "cells": [
  {
   "cell_type": "code",
   "execution_count": 1,
   "id": "a39bc038-57c3-4190-b064-8740cb40f623",
   "metadata": {},
   "outputs": [
    {
     "name": "stdout",
     "output_type": "stream",
     "text": [
      "x = 10\n",
      "After x += 5, x = 15\n",
      "After x -= 3, x = 12\n",
      "After x *= 2, x = 24\n",
      "After x /= 4, x = 6.0\n",
      "After x %= 3, x = 0.0\n"
     ]
    }
   ],
   "source": [
    "x = 10\n",
    "print(\"x =\", x)\n",
    "\n",
    "x += 5\n",
    "print(\"After x += 5, x =\", x)\n",
    "\n",
    "x -= 3\n",
    "print(\"After x -= 3, x =\", x)\n",
    "\n",
    "x *= 2\n",
    "print(\"After x *= 2, x =\", x)\n",
    "\n",
    "x /= 4\n",
    "print(\"After x /= 4, x =\", x)\n",
    "\n",
    "x %= 3\n",
    "print(\"After x %= 3, x =\", x)"
   ]
  },
  {
   "cell_type": "code",
   "execution_count": null,
   "id": "890542af-ce4d-4e93-a45a-1c4f6da1ce36",
   "metadata": {},
   "outputs": [],
   "source": []
  }
 ],
 "metadata": {
  "kernelspec": {
   "display_name": "Python 3 (ipykernel)",
   "language": "python",
   "name": "python3"
  },
  "language_info": {
   "codemirror_mode": {
    "name": "ipython",
    "version": 3
   },
   "file_extension": ".py",
   "mimetype": "text/x-python",
   "name": "python",
   "nbconvert_exporter": "python",
   "pygments_lexer": "ipython3",
   "version": "3.13.5"
  }
 },
 "nbformat": 4,
 "nbformat_minor": 5
}
