{
 "cells": [
  {
   "cell_type": "code",
   "execution_count": 1,
   "id": "3085c1ee-a013-48b3-989c-66d3c2881d49",
   "metadata": {},
   "outputs": [
    {
     "name": "stdout",
     "output_type": "stream",
     "text": [
      "<class 'float'>\n"
     ]
    }
   ],
   "source": [
    "x=10\n",
    "y= float(x)\n",
    "print(type(y))"
   ]
  },
  {
   "cell_type": "code",
   "execution_count": 2,
   "id": "5dced98d-3047-4e8b-816e-fb285e7e9a76",
   "metadata": {},
   "outputs": [
    {
     "name": "stdout",
     "output_type": "stream",
     "text": [
      "<class 'float'>\n"
     ]
    }
   ],
   "source": [
    "x=10\n",
    "y=10.5\n",
    "print(type())"
   ]
  },
  {
   "cell_type": "code",
   "execution_count": 6,
   "id": "a0ba759c-9ab1-45c5-afff-904cac43be48",
   "metadata": {},
   "outputs": [
    {
     "name": "stdin",
     "output_type": "stream",
     "text": [
      "Enter Product Name:  Rock\n",
      "Enter the price of one product:  50\n",
      "Enter the Product Quantity:  3\n"
     ]
    },
    {
     "name": "stdout",
     "output_type": "stream",
     "text": [
      "Total price of all product:  150.0\n"
     ]
    }
   ],
   "source": [
    "name= input(\"Enter Product Name: \")\n",
    "price= float(input(\"Enter the price of one product: \"))\n",
    "quantity= int(input(\"Enter the Product Quantity: \"))\n",
    "total= price*quantity\n",
    "print(\"Total price of all product: \",total)"
   ]
  },
  {
   "cell_type": "code",
   "execution_count": 6,
   "id": "6450d726-5e6a-43f8-8054-374686f15e72",
   "metadata": {},
   "outputs": [
    {
     "name": "stdout",
     "output_type": "stream",
     "text": [
      "Pawan\n"
     ]
    }
   ],
   "source": [
    "#Control Statement\n",
    "Name= \"Pawan\"\n",
    "if Name==\"Sidharth\":\n",
    "    print(\"Name is: \",Name)\n",
    "else:\n",
    "    print(\"Pawan\")"
   ]
  },
  {
   "cell_type": "code",
   "execution_count": 13,
   "id": "06bdb167-35eb-4190-bd35-bc44b0ee9a7b",
   "metadata": {},
   "outputs": [
    {
     "name": "stdout",
     "output_type": "stream",
     "text": [
      "False\n"
     ]
    }
   ],
   "source": [
    "x=0\n",
    "if x:\n",
    "    print(\"True\")\n",
    "else:\n",
    "    print(\"False\")"
   ]
  },
  {
   "cell_type": "code",
   "execution_count": 4,
   "id": "f1053d0a-4289-4971-8650-6bdeab93ad8d",
   "metadata": {},
   "outputs": [
    {
     "name": "stdin",
     "output_type": "stream",
     "text": [
      "Enter the Month:  June\n"
     ]
    },
    {
     "name": "stdout",
     "output_type": "stream",
     "text": [
      "This the Winter Season Months\n"
     ]
    }
   ],
   "source": [
    "Month= input(\"Enter the Month: \")\n",
    "if Month==\"Dec\"or\"Jan\"or\"Feb\":\n",
    "    print(\"This the Winter Season Months\")\n",
    "elif Month==\"March\"|\"April\"|\"May\"|\"June\":\n",
    "    print(\"This is the Summer Season\")\n",
    "elif Month==\"July\"|\"Aug\"|\"Sept\"|\"Oct\":\n",
    "    print(\"This the Monsoon Season Months\")\n",
    "else:\n",
    "    print(\"This is the Invalid Season\")\n",
    "     "
   ]
  },
  {
   "cell_type": "code",
   "execution_count": 16,
   "id": "5fde5108-6e92-4e21-844e-3699b53ec880",
   "metadata": {},
   "outputs": [
    {
     "name": "stdout",
     "output_type": "stream",
     "text": [
      "<class 'int'>\n"
     ]
    }
   ],
   "source": [
    "String=\"123\"\n",
    "b=int(String)\n",
    "print(type(b))\n"
   ]
  },
  {
   "cell_type": "code",
   "execution_count": 17,
   "id": "29d3fea6-9a68-40ae-90c6-3d80078e6cbe",
   "metadata": {},
   "outputs": [
    {
     "name": "stdin",
     "output_type": "stream",
     "text": [
      "Car Type Bike\n"
     ]
    },
    {
     "name": "stdout",
     "output_type": "stream",
     "text": [
      "Your Vehicle will expire in 10 years.\n"
     ]
    }
   ],
   "source": [
    "Vehicle= input(\"Car Type\")\n",
    "if Vehicle==\"Car\":\n",
    "    print(\"Your Vehicle will expire in 15 years.\")\n",
    "elif Vehicle==\"Bike\":\n",
    "    print(\"Your Vehicle will expire in 10 years.\")\n",
    "else:\n",
    "    print(\"Vehicle is not Expired yet.\")\n"
   ]
  },
  {
   "cell_type": "code",
   "execution_count": 1,
   "id": "715b2289-23f8-4c96-9dee-1c32375e8784",
   "metadata": {},
   "outputs": [
    {
     "name": "stdout",
     "output_type": "stream",
     "text": [
      "2\n",
      "4\n",
      "6\n",
      "8\n",
      "10\n",
      "12\n",
      "14\n",
      "16\n",
      "18\n",
      "20\n"
     ]
    }
   ],
   "source": [
    "#Table of 2\n",
    "i = 1\n",
    "while i <= 10:\n",
    "    print(2 * i)\n",
    "    i += 1\n"
   ]
  },
  {
   "cell_type": "code",
   "execution_count": 5,
   "id": "85acd5b6-11a7-48e5-a5b4-beddb3fdfc84",
   "metadata": {},
   "outputs": [
    {
     "name": "stdout",
     "output_type": "stream",
     "text": [
      "2\n",
      "4\n",
      "6\n",
      "8\n",
      "10\n",
      "12\n",
      "14\n",
      "16\n",
      "18\n",
      "20\n"
     ]
    }
   ],
   "source": [
    "#Table of 2\n",
    "i= int(2)\n",
    "while i<=20:\n",
    "    print(i)\n",
    "    i=i+2"
   ]
  },
  {
   "cell_type": "code",
   "execution_count": 1,
   "id": "777f153e-e17d-4fd5-913c-73c01b7811f8",
   "metadata": {},
   "outputs": [
    {
     "name": "stdin",
     "output_type": "stream",
     "text": [
      "Enter a number:  2\n"
     ]
    },
    {
     "name": "stdout",
     "output_type": "stream",
     "text": [
      "2 x 1 = 2\n",
      "2 x 2 = 4\n",
      "2 x 3 = 6\n",
      "2 x 4 = 8\n",
      "2 x 5 = 10\n",
      "2 x 6 = 12\n",
      "2 x 7 = 14\n",
      "2 x 8 = 16\n",
      "2 x 9 = 18\n",
      "2 x 10 = 20\n"
     ]
    }
   ],
   "source": [
    "# While Loop\n",
    "\n",
    "num=int(input(\"Enter a number: \"))\n",
    "i= 1\n",
    "\n",
    "while i <= 10:\n",
    "        print(f\"{num} x {i} = {num * i}\")\n",
    "        i += 1"
   ]
  },
  {
   "cell_type": "code",
   "execution_count": 2,
   "id": "0864bd13-06d1-4f41-8bd6-c9c766b40fbb",
   "metadata": {},
   "outputs": [
    {
     "name": "stdin",
     "output_type": "stream",
     "text": [
      "Enter a string:  hjzbskjdcb\n"
     ]
    },
    {
     "name": "stdout",
     "output_type": "stream",
     "text": [
      "0\n"
     ]
    }
   ],
   "source": [
    "s = input(\"Enter a string: \")\n",
    "count = 0\n",
    "i = 0\n",
    "vowels = \"aeiouAEIOU\"\n",
    "while i < len(s):\n",
    "    if s[i] in vowels:\n",
    "        count += 1\n",
    "    i += 1\n",
    "print(count)\n"
   ]
  },
  {
   "cell_type": "code",
   "execution_count": 3,
   "id": "6f96e457-155b-4fc0-9782-9da670895dd8",
   "metadata": {},
   "outputs": [
    {
     "name": "stdin",
     "output_type": "stream",
     "text": [
      "Enter a string:  khyfktyflu\n"
     ]
    },
    {
     "name": "stdout",
     "output_type": "stream",
     "text": [
      "1\n"
     ]
    }
   ],
   "source": [
    "str = input(\"Enter a string: \")\n",
    "count = 0\n",
    "i = 0\n",
    "vowels = \"aeiou\"\n",
    "while i < len(str):\n",
    "    if str[i] in vowels:\n",
    "        count += 1\n",
    "    i += 1\n",
    "print(count)"
   ]
  },
  {
   "cell_type": "code",
   "execution_count": null,
   "id": "2c5c13d2-fa57-4493-b23f-86eb4407f88d",
   "metadata": {},
   "outputs": [],
   "source": []
  }
 ],
 "metadata": {
  "kernelspec": {
   "display_name": "Python 3 (ipykernel)",
   "language": "python",
   "name": "python3"
  },
  "language_info": {
   "codemirror_mode": {
    "name": "ipython",
    "version": 3
   },
   "file_extension": ".py",
   "mimetype": "text/x-python",
   "name": "python",
   "nbconvert_exporter": "python",
   "pygments_lexer": "ipython3",
   "version": "3.13.5"
  }
 },
 "nbformat": 4,
 "nbformat_minor": 5
}
