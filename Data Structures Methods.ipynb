{
 "cells": [
  {
   "cell_type": "code",
   "execution_count": 1,
   "id": "b1505cf1-ffd6-4204-b54f-a45af1f0d55f",
   "metadata": {},
   "outputs": [
    {
     "name": "stdout",
     "output_type": "stream",
     "text": [
      "[1, 1, 4, 5, 6, 3]\n"
     ]
    }
   ],
   "source": [
    "#Data Structures Methods\n",
    "lst = [1,1,4,5,6]\n",
    "lst.append(3)\n",
    "print(lst)"
   ]
  },
  {
   "cell_type": "code",
   "execution_count": 2,
   "id": "40f9281d-48af-406f-a3aa-f713e5ea9b00",
   "metadata": {},
   "outputs": [
    {
     "name": "stdout",
     "output_type": "stream",
     "text": [
      "[1, 8, 22, 50, 93, 70]\n"
     ]
    }
   ],
   "source": [
    "lst=[1,22,50,93,70]\n",
    "lst.insert(1,8)\n",
    "print(lst)"
   ]
  },
  {
   "cell_type": "code",
   "execution_count": 4,
   "id": "309b5543-4ea8-4e60-9043-07ce862def32",
   "metadata": {},
   "outputs": [
    {
     "name": "stdout",
     "output_type": "stream",
     "text": [
      "[1, 22, 50, 93, 70, 11, 90]\n"
     ]
    }
   ],
   "source": [
    "lst=[1,22,50,93,70]\n",
    "lst.extend([11,90])\n",
    "print(lst)"
   ]
  },
  {
   "cell_type": "code",
   "execution_count": 5,
   "id": "58fe569c-307f-41dd-bb4f-ec3bd3a3b9ff",
   "metadata": {},
   "outputs": [
    {
     "name": "stdout",
     "output_type": "stream",
     "text": [
      "[1, 22, 50, 93]\n"
     ]
    }
   ],
   "source": [
    "lst=[1,22,50,93,70]\n",
    "lst.pop()\n",
    "print(lst)"
   ]
  },
  {
   "cell_type": "code",
   "execution_count": 7,
   "id": "f720c7dd-ed06-4476-8f2b-144618fa168c",
   "metadata": {},
   "outputs": [
    {
     "name": "stdout",
     "output_type": "stream",
     "text": [
      "[1, 50, 93, 70]\n"
     ]
    }
   ],
   "source": [
    "lst=[1,22,50,93,70]\n",
    "lst.remove(22)\n",
    "print(lst)"
   ]
  },
  {
   "cell_type": "code",
   "execution_count": 8,
   "id": "e3685f7a-396a-4031-850f-7582edefa74b",
   "metadata": {},
   "outputs": [
    {
     "name": "stdout",
     "output_type": "stream",
     "text": [
      "[]\n"
     ]
    }
   ],
   "source": [
    "lst=[1,22,50,93,70]\n",
    "lst.clear()\n",
    "print(lst)"
   ]
  },
  {
   "cell_type": "code",
   "execution_count": 10,
   "id": "64ba9818-305d-4509-ace2-c4d7a7a8247a",
   "metadata": {},
   "outputs": [
    {
     "data": {
      "text/plain": [
       "3"
      ]
     },
     "execution_count": 10,
     "metadata": {},
     "output_type": "execute_result"
    }
   ],
   "source": [
    "lst=[1,22,50,93,70]\n",
    "lst.index(93)"
   ]
  },
  {
   "cell_type": "code",
   "execution_count": null,
   "id": "0900126b-df9c-407d-b9b9-4d373c0473d4",
   "metadata": {},
   "outputs": [],
   "source": []
  },
  {
   "cell_type": "code",
   "execution_count": null,
   "id": "61c6c8c2-d58d-4921-b660-8b6dccd5f8bb",
   "metadata": {},
   "outputs": [],
   "source": []
  },
  {
   "cell_type": "code",
   "execution_count": null,
   "id": "ee93c215-f5da-4191-b6b0-97bd8853feeb",
   "metadata": {},
   "outputs": [],
   "source": []
  },
  {
   "cell_type": "code",
   "execution_count": null,
   "id": "22a0fc56-774b-4e09-a98c-549e19f4bb12",
   "metadata": {},
   "outputs": [],
   "source": [
    "names.sort"
   ]
  },
  {
   "cell_type": "code",
   "execution_count": null,
   "id": "34cc860f-0116-4da2-aef5-5190a274c955",
   "metadata": {},
   "outputs": [],
   "source": [
    "lista= [2,1,4,3]\n",
    "listb= lista.copy()\n",
    "print(listb)"
   ]
  }
 ],
 "metadata": {
  "kernelspec": {
   "display_name": "Python 3 (ipykernel)",
   "language": "python",
   "name": "python3"
  },
  "language_info": {
   "codemirror_mode": {
    "name": "ipython",
    "version": 3
   },
   "file_extension": ".py",
   "mimetype": "text/x-python",
   "name": "python",
   "nbconvert_exporter": "python",
   "pygments_lexer": "ipython3",
   "version": "3.13.5"
  }
 },
 "nbformat": 4,
 "nbformat_minor": 5
}
