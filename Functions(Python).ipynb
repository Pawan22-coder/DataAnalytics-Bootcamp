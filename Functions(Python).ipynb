{
 "cells": [
  {
   "cell_type": "code",
   "execution_count": 2,
   "id": "e78ab127-d6df-4612-9b47-0ced5298000c",
   "metadata": {},
   "outputs": [],
   "source": [
    "def add():\n",
    "    a=5\n",
    "    b=10\n",
    "    print(a+b)"
   ]
  },
  {
   "cell_type": "code",
   "execution_count": 3,
   "id": "5b8200ad-182d-4ff3-899b-51b5022a1306",
   "metadata": {},
   "outputs": [
    {
     "name": "stdout",
     "output_type": "stream",
     "text": [
      "15\n"
     ]
    }
   ],
   "source": [
    "add()"
   ]
  },
  {
   "cell_type": "code",
   "execution_count": 4,
   "id": "42c60783-b0d5-447b-9b3b-938f7c8c433e",
   "metadata": {},
   "outputs": [],
   "source": [
    "def add(x,y):\n",
    "    print(x+y)"
   ]
  },
  {
   "cell_type": "code",
   "execution_count": 6,
   "id": "d9fb494b-79b2-404a-8de1-e0d5d4eb104c",
   "metadata": {},
   "outputs": [
    {
     "name": "stdout",
     "output_type": "stream",
     "text": [
      "19.5\n"
     ]
    }
   ],
   "source": [
    "add(12.5,7)"
   ]
  },
  {
   "cell_type": "code",
   "execution_count": 12,
   "id": "1d1847cf-4e73-42c5-aedd-61a1fd09f90d",
   "metadata": {},
   "outputs": [
    {
     "ename": "NameError",
     "evalue": "name 'sum_natural_number' is not defined",
     "output_type": "error",
     "traceback": [
      "\u001b[31m---------------------------------------------------------------------------\u001b[39m",
      "\u001b[31mNameError\u001b[39m                                 Traceback (most recent call last)",
      "\u001b[36mCell\u001b[39m\u001b[36m \u001b[39m\u001b[32mIn[12]\u001b[39m\u001b[32m, line 4\u001b[39m\n\u001b[32m      1\u001b[39m \u001b[38;5;66;03m#si=(p*r*t)/100\u001b[39;00m\n\u001b[32m      2\u001b[39m \u001b[38;5;66;03m# create a function to find the sum of all the natural number between 1 to 50.\u001b[39;00m\n\u001b[32m      3\u001b[39m n=\u001b[32m50\u001b[39m\n\u001b[32m----> \u001b[39m\u001b[32m4\u001b[39m total = sum_natural_number(n)\n\u001b[32m      5\u001b[39m \u001b[38;5;28mprint\u001b[39m(\u001b[33mf\u001b[39m\u001b[33m\"\u001b[39m\u001b[33mThe sum of the first \u001b[39m\u001b[38;5;132;01m{\u001b[39;00mn\u001b[38;5;132;01m}\u001b[39;00m\u001b[33m natural number is: \u001b[39m\u001b[38;5;132;01m{\u001b[39;00mtotal\u001b[38;5;132;01m}\u001b[39;00m\u001b[33m\"\u001b[39m)\n",
      "\u001b[31mNameError\u001b[39m: name 'sum_natural_number' is not defined"
     ]
    }
   ],
   "source": [
    "#si=(p*r*t)/100\n",
    "# create a function to find the sum of all the natural number between 1 to 50.\n",
    "n=50\n",
    "total = sum_natural_number(n)\n",
    "print(f\"The sum of the first {n} natural number is: {total}\")\n"
   ]
  },
  {
   "cell_type": "code",
   "execution_count": 13,
   "id": "b87f92ef-264f-4828-97c7-8ee4efffecb8",
   "metadata": {},
   "outputs": [
    {
     "name": "stdout",
     "output_type": "stream",
     "text": [
      "200.0\n"
     ]
    }
   ],
   "source": [
    "p=1000\n",
    "r=2\n",
    "t=10\n",
    "def si(p,r,t):\n",
    "    print((p*r*t/100))\n",
    "si(p,r,t)"
   ]
  },
  {
   "cell_type": "code",
   "execution_count": 14,
   "id": "d7b594cd-d025-4049-a6ee-34fd8409e309",
   "metadata": {},
   "outputs": [
    {
     "name": "stdout",
     "output_type": "stream",
     "text": [
      "1275\n"
     ]
    }
   ],
   "source": [
    "def sum(a,b):\n",
    "    sum=0\n",
    "    for i in range(a,b):\n",
    "        sum+=i\n",
    "    print(sum)\n",
    "sum(1,51)"
   ]
  },
  {
   "cell_type": "code",
   "execution_count": 16,
   "id": "940415a3-10f6-4ec5-8b04-2684ffc8f29d",
   "metadata": {},
   "outputs": [
    {
     "name": "stdout",
     "output_type": "stream",
     "text": [
      "2x1 = 2\n",
      "2x2 = 4\n",
      "2x3 = 6\n",
      "2x4 = 8\n",
      "2x5 = 10\n",
      "2x6 = 12\n",
      "2x7 = 14\n",
      "2x8 = 16\n",
      "2x9 = 18\n",
      "2x10 = 20\n"
     ]
    }
   ],
   "source": [
    "# table of 2 using Function\n",
    "def table(a=2):\n",
    "    for i in range(1,11):\n",
    "        print(f\"{a}x{i} = {a*i}\")\n",
    "\n",
    "table(2)\n"
   ]
  },
  {
   "cell_type": "code",
   "execution_count": 27,
   "id": "3eb8cc74-a49c-4237-8277-6c461bf7540a",
   "metadata": {},
   "outputs": [
    {
     "name": "stdout",
     "output_type": "stream",
     "text": [
      "value of sum is 1\n",
      "value of sum is 1\n",
      "value of sum is 4\n",
      "value of sum is 4\n",
      "value of sum is 9\n",
      "value of sum is 9\n",
      "value of sum is 16\n",
      "value of sum is 16\n",
      "value of sum is 25\n",
      "value of sum is 25\n",
      "value of sum is 36\n",
      "value of sum is 36\n",
      "value of sum is 49\n",
      "value of sum is 49\n",
      "value of sum is 64\n",
      "value of sum is 64\n",
      "value of sum is 81\n",
      "value of sum is 81\n",
      "value of sum is 100\n",
      "value of sum is 100\n",
      "value of sum is 121\n",
      "value of sum is 121\n",
      "value of sum is 144\n",
      "value of sum is 144\n",
      "value of sum is 169\n",
      "value of sum is 169\n",
      "value of sum is 196\n",
      "value of sum is 196\n",
      "value of sum is 225\n",
      "value of sum is 225\n",
      "value of sum is 256\n",
      "value of sum is 256\n",
      "value of sum is 289\n",
      "value of sum is 289\n",
      "value of sum is 324\n",
      "value of sum is 324\n",
      "value of sum is 361\n",
      "value of sum is 361\n",
      "value of sum is 400\n",
      "value of sum is 400\n",
      "value of sum is 441\n",
      "value of sum is 441\n",
      "value of sum is 484\n",
      "value of sum is 484\n",
      "value of sum is 529\n",
      "value of sum is 529\n",
      "value of sum is 576\n",
      "value of sum is 576\n",
      "value of sum is 625\n",
      "value of sum is 625\n",
      "625\n"
     ]
    }
   ],
   "source": [
    "def even(a,b):\n",
    "    sum=0\n",
    "    for i in range(a,b):\n",
    "        if i%2!=0:\n",
    "            sum+=i\n",
    "        print(f\"value of sum is {sum}\")\n",
    "    print(sum)\n",
    "\n",
    "even(1,51)"
   ]
  },
  {
   "cell_type": "code",
   "execution_count": 17,
   "id": "548148cc-3420-459b-83ae-3984802115e8",
   "metadata": {},
   "outputs": [
    {
     "name": "stdout",
     "output_type": "stream",
     "text": [
      "30\n"
     ]
    }
   ],
   "source": [
    "def add(a,b):\n",
    "    c=a+b\n",
    "    print(c)\n",
    "add(10,20)"
   ]
  },
  {
   "cell_type": "code",
   "execution_count": 22,
   "id": "32be0b4b-13e8-4760-93a4-c650b6b2cc90",
   "metadata": {},
   "outputs": [
    {
     "name": "stdout",
     "output_type": "stream",
     "text": [
      "30\n",
      "None\n"
     ]
    }
   ],
   "source": [
    "def add(a,b):\n",
    "    c=a+b\n",
    "    print(c)\n",
    "a_1=add(10,20)\n",
    "print(a_1)"
   ]
  },
  {
   "cell_type": "code",
   "execution_count": 23,
   "id": "48fa473f-c62b-44fc-a847-3861a30322d0",
   "metadata": {},
   "outputs": [
    {
     "name": "stdout",
     "output_type": "stream",
     "text": [
      "None\n"
     ]
    }
   ],
   "source": [
    "print(a_1)"
   ]
  },
  {
   "cell_type": "code",
   "execution_count": 20,
   "id": "ff2f8aab-f1ac-41c2-839c-15af36ff4c61",
   "metadata": {},
   "outputs": [
    {
     "data": {
      "text/plain": [
       "30"
      ]
     },
     "execution_count": 20,
     "metadata": {},
     "output_type": "execute_result"
    }
   ],
   "source": [
    "def add(a,b):\n",
    "    c=a+b\n",
    "    return c\n",
    "add(10,20)"
   ]
  },
  {
   "cell_type": "code",
   "execution_count": 24,
   "id": "7d5ecaf9-e50c-4996-8e03-697b3e717647",
   "metadata": {},
   "outputs": [],
   "source": [
    "def add(a,b):\n",
    "    c=a+b\n",
    "    return c\n",
    "a_1=add(10,20)"
   ]
  },
  {
   "cell_type": "code",
   "execution_count": 16,
   "id": "99354407-2085-418a-a45b-bb239b65d5e9",
   "metadata": {},
   "outputs": [
    {
     "data": {
      "text/plain": [
       "20"
      ]
     },
     "execution_count": 16,
     "metadata": {},
     "output_type": "execute_result"
    }
   ],
   "source": [
    "#Anonymous Function\n",
    "add=lambda a,b:a+b\n",
    "add(12,8)"
   ]
  },
  {
   "cell_type": "code",
   "execution_count": 17,
   "id": "588fc173-98af-4129-8d19-414668eab22d",
   "metadata": {},
   "outputs": [
    {
     "data": {
      "text/plain": [
       "15.9"
      ]
     },
     "execution_count": 17,
     "metadata": {},
     "output_type": "execute_result"
    }
   ],
   "source": [
    "add(12.9,3)"
   ]
  },
  {
   "cell_type": "code",
   "execution_count": 14,
   "id": "eefb9891-c729-40b9-9fc1-6657e3435bfd",
   "metadata": {},
   "outputs": [
    {
     "name": "stdin",
     "output_type": "stream",
     "text": [
      "Enter numerator:  54\n",
      "Enter denominator:  0\n"
     ]
    },
    {
     "name": "stdout",
     "output_type": "stream",
     "text": [
      "Error: Cannot divide by zero!\n",
      " Program ended, Thank You!\n"
     ]
    }
   ],
   "source": [
    "try:\n",
    "    num1 = int(input(\"Enter numerator: \"))\n",
    "    num2 = int(input(\"Enter denominator: \"))\n",
    "    result = num1 / num2\n",
    "\n",
    "except ZeroDivisionError:\n",
    "    print(\"Error: Cannot divide by zero!\")\n",
    "    \n",
    "except ValueError:\n",
    "    print(\"Error: Please enter valid integers only!\")\n",
    "\n",
    "else:\n",
    "    print(\"Result is\", result)\n",
    "\n",
    "finally:\n",
    "    print(\" Program ended, Thank You!\")"
   ]
  },
  {
   "cell_type": "code",
   "execution_count": 10,
   "id": "20ea381d-e440-4659-946e-164e9b0c2617",
   "metadata": {},
   "outputs": [
    {
     "name": "stdout",
     "output_type": "stream",
     "text": [
      "120\n"
     ]
    }
   ],
   "source": [
    "def factorial(n):\n",
    "    if n == 1:\n",
    "         return 1\n",
    "    return n * factorial(n-1)\n",
    "\n",
    "print(factorial(5))"
   ]
  },
  {
   "cell_type": "code",
   "execution_count": 15,
   "id": "20a71c0c-9f01-4613-a571-1b9e4c314ff2",
   "metadata": {},
   "outputs": [
    {
     "name": "stdout",
     "output_type": "stream",
     "text": [
      "ueh\n"
     ]
    }
   ],
   "source": [
    "def reverse(s):\n",
    "    return s[::-1]\n",
    "str=\"heu\"\n",
    "reversed_str=reverse(str)\n",
    "print(reversed_str)"
   ]
  },
  {
   "cell_type": "code",
   "execution_count": 21,
   "id": "39887423-89e6-4f8c-8c51-9afe92e74e37",
   "metadata": {},
   "outputs": [
    {
     "data": {
      "text/plain": [
       "5"
      ]
     },
     "execution_count": 21,
     "metadata": {},
     "output_type": "execute_result"
    }
   ],
   "source": [
    "def add(a, b):\n",
    "    return a + b\n",
    "add(2,3)"
   ]
  },
  {
   "cell_type": "code",
   "execution_count": 21,
   "id": "f76d955a-79c3-45b3-932a-451d0a5a1223",
   "metadata": {},
   "outputs": [
    {
     "data": {
      "text/plain": [
       "5"
      ]
     },
     "execution_count": 21,
     "metadata": {},
     "output_type": "execute_result"
    }
   ],
   "source": [
    "def add(a, b):\n",
    "    return a + b\n",
    "add(2,3)"
   ]
  },
  {
   "cell_type": "code",
   "execution_count": 19,
   "id": "b01af135-0417-47e0-a760-598c1b620783",
   "metadata": {},
   "outputs": [],
   "source": [
    "def add(a, b):\n",
    "    return a + b\n"
   ]
  },
  {
   "cell_type": "code",
   "execution_count": 20,
   "id": "9c591744-4adb-4ade-b76c-18ff5ae68a3d",
   "metadata": {},
   "outputs": [],
   "source": [
    "def is_even(n):\n",
    "    return n % 2 == 0"
   ]
  },
  {
   "cell_type": "code",
   "execution_count": 23,
   "id": "eb374d1f-549b-4dc4-9691-0493f7f96276",
   "metadata": {},
   "outputs": [],
   "source": [
    "def square(n):\n",
    "    return n * n"
   ]
  },
  {
   "cell_type": "code",
   "execution_count": 25,
   "id": "e934b9de-5a70-4295-854d-f0c9c587e097",
   "metadata": {},
   "outputs": [
    {
     "data": {
      "text/plain": [
       "True"
      ]
     },
     "execution_count": 25,
     "metadata": {},
     "output_type": "execute_result"
    }
   ],
   "source": [
    "def is_even(n):\n",
    "    return n % 2 == 0\n",
    "is_even(6)"
   ]
  },
  {
   "cell_type": "code",
   "execution_count": 33,
   "id": "eb7c37b3-ddb5-4a7c-9893-14dc06d61127",
   "metadata": {},
   "outputs": [
    {
     "ename": "SyntaxError",
     "evalue": "invalid syntax (2130689458.py, line 6)",
     "output_type": "error",
     "traceback": [
      "  \u001b[36mCell\u001b[39m\u001b[36m \u001b[39m\u001b[32mIn[33]\u001b[39m\u001b[32m, line 6\u001b[39m\n\u001b[31m    \u001b[39m\u001b[31melse n * factorial(n - 1):\u001b[39m\n    ^\n\u001b[31mSyntaxError\u001b[39m\u001b[31m:\u001b[39m invalid syntax\n"
     ]
    }
   ],
   "source": [
    "def factorial(n):\n",
    "    if n < 0:\n",
    "        raise ValueError(\"Negative numbers not allowed\")\n",
    "    return 1 \n",
    "    if n in (0, 1): \n",
    "        else n * factorial(n - 1):\n",
    "factorial(6)"
   ]
  },
  {
   "cell_type": "code",
   "execution_count": 34,
   "id": "1e0ecd12-9b6f-4614-b139-862fa0c0c813",
   "metadata": {},
   "outputs": [],
   "source": [
    "def max_in_list(lst):\n",
    "    if not lst:\n",
    "        return None\n",
    "    return max(lst)"
   ]
  },
  {
   "cell_type": "code",
   "execution_count": 37,
   "id": "30b011ac-99fb-491c-b792-d3ffb40088b4",
   "metadata": {},
   "outputs": [
    {
     "ename": "NameError",
     "evalue": "name 's' is not defined",
     "output_type": "error",
     "traceback": [
      "\u001b[31m---------------------------------------------------------------------------\u001b[39m",
      "\u001b[31mNameError\u001b[39m                                 Traceback (most recent call last)",
      "\u001b[36mCell\u001b[39m\u001b[36m \u001b[39m\u001b[32mIn[37]\u001b[39m\u001b[32m, line 3\u001b[39m\n\u001b[32m      1\u001b[39m \u001b[38;5;28;01mdef\u001b[39;00m\u001b[38;5;250m \u001b[39m\u001b[34mcount_vowels\u001b[39m(s):\n\u001b[32m      2\u001b[39m     \u001b[38;5;28;01mreturn\u001b[39;00m \u001b[38;5;28msum\u001b[39m(\u001b[32m1\u001b[39m \u001b[38;5;28;01mfor\u001b[39;00m ch \u001b[38;5;129;01min\u001b[39;00m s.lower() \u001b[38;5;28;01mif\u001b[39;00m ch \u001b[38;5;129;01min\u001b[39;00m \u001b[33m\"\u001b[39m\u001b[33maeiou\u001b[39m\u001b[33m\"\u001b[39m)\n\u001b[32m----> \u001b[39m\u001b[32m3\u001b[39m count_vowels(s)\n",
      "\u001b[31mNameError\u001b[39m: name 's' is not defined"
     ]
    }
   ],
   "source": [
    "def count_vowels(s):\n",
    "    return sum(1 for ch in s.lower() if ch in \"aeiou\")\n",
    "count_vowels(s)"
   ]
  },
  {
   "cell_type": "code",
   "execution_count": 43,
   "id": "e873c5e0-6b44-4f36-9dca-7dd911cc4810",
   "metadata": {},
   "outputs": [
    {
     "ename": "NameError",
     "evalue": "name 's' is not defined",
     "output_type": "error",
     "traceback": [
      "\u001b[31m---------------------------------------------------------------------------\u001b[39m",
      "\u001b[31mNameError\u001b[39m                                 Traceback (most recent call last)",
      "\u001b[36mCell\u001b[39m\u001b[36m \u001b[39m\u001b[32mIn[43]\u001b[39m\u001b[32m, line 4\u001b[39m\n\u001b[32m      2\u001b[39m     \u001b[38;5;28;01mreturn\u001b[39;00m \u001b[38;5;28msum\u001b[39m(\u001b[32m1\u001b[39m \u001b[38;5;28;01mfor\u001b[39;00m ch \u001b[38;5;129;01min\u001b[39;00m s.lower() \u001b[38;5;28;01mif\u001b[39;00m ch \u001b[38;5;129;01min\u001b[39;00m \u001b[33m\"\u001b[39m\u001b[33maeiou\u001b[39m\u001b[33m\"\u001b[39m)\n\u001b[32m      3\u001b[39m     s = Rohit\n\u001b[32m----> \u001b[39m\u001b[32m4\u001b[39m \u001b[38;5;28mprint\u001b[39m(count_vowels(s))\n",
      "\u001b[31mNameError\u001b[39m: name 's' is not defined"
     ]
    }
   ],
   "source": [
    "def count_vowels(s):\n",
    "    return sum(1 for ch in s.lower() if ch in \"aeiou\")\n",
    "    s = Rohit\n",
    "print(count_vowels(s))"
   ]
  },
  {
   "cell_type": "code",
   "execution_count": 44,
   "id": "b8778538-9ee5-4477-b0be-9bbee7fb8708",
   "metadata": {},
   "outputs": [],
   "source": [
    "def square_power(n):\n",
    "    # Raise n to the power of 2\n",
    "    return n ** 2"
   ]
  },
  {
   "cell_type": "code",
   "execution_count": null,
   "id": "34f1a29f-3148-468f-abc7-b0f9c8b71c72",
   "metadata": {},
   "outputs": [],
   "source": []
  }
 ],
 "metadata": {
  "kernelspec": {
   "display_name": "Python 3 (ipykernel)",
   "language": "python",
   "name": "python3"
  },
  "language_info": {
   "codemirror_mode": {
    "name": "ipython",
    "version": 3
   },
   "file_extension": ".py",
   "mimetype": "text/x-python",
   "name": "python",
   "nbconvert_exporter": "python",
   "pygments_lexer": "ipython3",
   "version": "3.13.5"
  }
 },
 "nbformat": 4,
 "nbformat_minor": 5
}
