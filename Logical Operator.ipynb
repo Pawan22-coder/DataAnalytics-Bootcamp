{
 "cells": [
  {
   "cell_type": "code",
   "execution_count": 1,
   "id": "33e1aa52-18e6-4752-8f50-35643f0b9b5c",
   "metadata": {},
   "outputs": [
    {
     "name": "stdout",
     "output_type": "stream",
     "text": [
      "x = True\n",
      "y = False\n",
      "x and y : False\n",
      "x or y : True\n",
      "not x : False\n",
      "not y : True\n"
     ]
    }
   ],
   "source": [
    "x = True\n",
    "y = False\n",
    "\n",
    "print(\"x =\", x)\n",
    "print(\"y =\", y)\n",
    "\n",
    "print(\"x and y :\", x and y)    # Logical AND\n",
    "print(\"x or y :\", x or y)      # Logical OR\n",
    "print(\"not x :\", not x)        # Logical NOT\n",
    "print(\"not y :\", not y)        # Logical NOTNOT"
   ]
  },
  {
   "cell_type": "code",
   "execution_count": null,
   "id": "8a3c3a46-37f7-4d6a-b233-4f92f7bf2ae2",
   "metadata": {},
   "outputs": [],
   "source": []
  }
 ],
 "metadata": {
  "kernelspec": {
   "display_name": "Python 3 (ipykernel)",
   "language": "python",
   "name": "python3"
  },
  "language_info": {
   "codemirror_mode": {
    "name": "ipython",
    "version": 3
   },
   "file_extension": ".py",
   "mimetype": "text/x-python",
   "name": "python",
   "nbconvert_exporter": "python",
   "pygments_lexer": "ipython3",
   "version": "3.13.5"
  }
 },
 "nbformat": 4,
 "nbformat_minor": 5
}
