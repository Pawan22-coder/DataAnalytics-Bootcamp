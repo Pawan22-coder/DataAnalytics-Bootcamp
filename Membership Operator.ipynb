{
 "cells": [
  {
   "cell_type": "code",
   "execution_count": 1,
   "id": "9f043019-6e6b-4a5f-af59-4455960f6a39",
   "metadata": {},
   "outputs": [
    {
     "name": "stdout",
     "output_type": "stream",
     "text": [
      "my_list = [1, 2, 3, 4, 5]\n",
      "Is 3 in my_list? True\n",
      "Is 7 in my_list? False\n",
      "Is 9 not in my_list? True\n",
      "Is 4 not in my_list? False\n"
     ]
    }
   ],
   "source": [
    "my_list = [1, 2, 3, 4, 5]\n",
    "\n",
    "print(\"my_list =\", my_list)\n",
    "\n",
    "print(\"Is 3 in my_list?\", 3 in my_list)        # True\n",
    "print(\"Is 7 in my_list?\", 7 in my_list)        # False\n",
    "\n",
    "print(\"Is 9 not in my_list?\", 9 not in my_list)  # True\n",
    "print(\"Is 4 not in my_list?\", 4 not in my_list)  # FalseFalse"
   ]
  },
  {
   "cell_type": "code",
   "execution_count": null,
   "id": "a3506e89-a607-4f02-80dc-1ce7ee06ea4e",
   "metadata": {},
   "outputs": [],
   "source": []
  }
 ],
 "metadata": {
  "kernelspec": {
   "display_name": "Python 3 (ipykernel)",
   "language": "python",
   "name": "python3"
  },
  "language_info": {
   "codemirror_mode": {
    "name": "ipython",
    "version": 3
   },
   "file_extension": ".py",
   "mimetype": "text/x-python",
   "name": "python",
   "nbconvert_exporter": "python",
   "pygments_lexer": "ipython3",
   "version": "3.13.5"
  }
 },
 "nbformat": 4,
 "nbformat_minor": 5
}
