{
 "cells": [
  {
   "cell_type": "code",
   "execution_count": 1,
   "id": "edbc313a-489d-43e2-97c4-a82bf5c3cd47",
   "metadata": {},
   "outputs": [
    {
     "name": "stdin",
     "output_type": "stream",
     "text": [
      "Enter a number:  2\n"
     ]
    },
    {
     "name": "stdout",
     "output_type": "stream",
     "text": [
      "2 x 1 = 2\n",
      "2 x 2 = 4\n",
      "2 x 3 = 6\n",
      "2 x 4 = 8\n",
      "2 x 5 = 10\n",
      "2 x 6 = 12\n",
      "2 x 7 = 14\n",
      "2 x 8 = 16\n",
      "2 x 9 = 18\n",
      "2 x 10 = 20\n"
     ]
    }
   ],
   "source": [
    "# While Loop\n",
    "\n",
    "num=int(input(\"Enter a number: \"))\n",
    "i= 1\n",
    "\n",
    "while i <= 10:\n",
    "        print(f\"{num} x {i} = {num * i}\")\n",
    "        i += 1"
   ]
  },
  {
   "cell_type": "code",
   "execution_count": 2,
   "id": "c5fd017e-86e5-4842-b13d-aa9cd0422b10",
   "metadata": {},
   "outputs": [
    {
     "name": "stdin",
     "output_type": "stream",
     "text": [
      "Type 'q' to quit:  1\n"
     ]
    },
    {
     "name": "stdout",
     "output_type": "stream",
     "text": [
      "You typed: 1\n"
     ]
    },
    {
     "name": "stdin",
     "output_type": "stream",
     "text": [
      "Type 'q' to quit:  a\n"
     ]
    },
    {
     "name": "stdout",
     "output_type": "stream",
     "text": [
      "You typed: a\n"
     ]
    },
    {
     "name": "stdin",
     "output_type": "stream",
     "text": [
      "Type 'q' to quit:  b\n"
     ]
    },
    {
     "name": "stdout",
     "output_type": "stream",
     "text": [
      "You typed: b\n"
     ]
    },
    {
     "name": "stdin",
     "output_type": "stream",
     "text": [
      "Type 'q' to quit:  c\n"
     ]
    },
    {
     "name": "stdout",
     "output_type": "stream",
     "text": [
      "You typed: c\n"
     ]
    },
    {
     "name": "stdin",
     "output_type": "stream",
     "text": [
      "Type 'q' to quit:  q\n"
     ]
    },
    {
     "name": "stdout",
     "output_type": "stream",
     "text": [
      "Exited loop!\n"
     ]
    }
   ],
   "source": [
    "# Break Statement\n",
    "while True:\n",
    "    user_input = input(\"Type 'q' to quit: \")\n",
    "    if user_input == 'q':\n",
    "        print(\"Exited loop!\")\n",
    "        break\n",
    "    else:\n",
    "        print(\"You typed:\", user_input) "
   ]
  },
  {
   "cell_type": "code",
   "execution_count": 3,
   "id": "bba6737b-dbb6-4ee0-9fb8-861ce9cc155a",
   "metadata": {},
   "outputs": [
    {
     "name": "stdin",
     "output_type": "stream",
     "text": [
      "Enter password:  1ysbg3hd\n"
     ]
    },
    {
     "name": "stdout",
     "output_type": "stream",
     "text": [
      "Wrong password! (attempts) attempts left.\n"
     ]
    },
    {
     "name": "stdin",
     "output_type": "stream",
     "text": [
      "Enter password:  382kdnfkjn\n"
     ]
    },
    {
     "name": "stdout",
     "output_type": "stream",
     "text": [
      "Wrong password! (attempts) attempts left.\n"
     ]
    },
    {
     "name": "stdin",
     "output_type": "stream",
     "text": [
      "Enter password:  open123\n"
     ]
    },
    {
     "name": "stdout",
     "output_type": "stream",
     "text": [
      "Access granted\n"
     ]
    }
   ],
   "source": [
    "password = \"open123\"\n",
    "attempts = 3\n",
    "\n",
    "while attempts >0:\n",
    "    user_input = input(\"Enter password: \")\n",
    "    if user_input == password:\n",
    "       print(\"Access granted\")\n",
    "       break\n",
    "    else:\n",
    "        attempts -= 1\n",
    "        print(f\"Wrong password! (attempts) attempts left.\")\n",
    "        "
   ]
  },
  {
   "cell_type": "code",
   "execution_count": 3,
   "id": "f1a4edd5-87c9-4a22-8931-7c615f1ddb50",
   "metadata": {},
   "outputs": [
    {
     "name": "stdout",
     "output_type": "stream",
     "text": [
      "7\n",
      "14\n",
      "21\n",
      "28\n",
      "35\n",
      "42\n",
      "49\n",
      "56\n",
      "63\n",
      "70\n",
      "77\n",
      "84\n",
      "91\n",
      "98\n"
     ]
    }
   ],
   "source": [
    "# While loop Example\n",
    "\n",
    "i=1\n",
    "while i<=100:\n",
    "    if i%7 == 0:\n",
    "        print(i)\n",
    "    i += 1"
   ]
  },
  {
   "cell_type": "code",
   "execution_count": 31,
   "id": "a4068530-61cd-4e49-9b97-90e4ec9cf670",
   "metadata": {},
   "outputs": [
    {
     "name": "stdin",
     "output_type": "stream",
     "text": [
      "Enter password:  thdfj\n"
     ]
    },
    {
     "name": "stdout",
     "output_type": "stream",
     "text": [
      "Wrong password! (attempts) attempts left.\n"
     ]
    },
    {
     "name": "stdin",
     "output_type": "stream",
     "text": [
      "Enter password:  kffulgyu\n"
     ]
    },
    {
     "name": "stdout",
     "output_type": "stream",
     "text": [
      "Wrong password! (attempts) attempts left.\n"
     ]
    },
    {
     "name": "stdin",
     "output_type": "stream",
     "text": [
      "Enter password:  open123\n"
     ]
    },
    {
     "name": "stdout",
     "output_type": "stream",
     "text": [
      "Access granted\n"
     ]
    }
   ],
   "source": [
    "password = \"open123\"\n",
    "attempts = 3\n",
    "\n",
    "for attempt in range(1,4):\n",
    "    user_input = input(\"Enter password: \")\n",
    "    if user_input == password:\n",
    "        print(\"Access granted\")\n",
    "        break\n",
    "    else:\n",
    "        attempts -= 1\n",
    "        print(f\"Wrong password! (attempts) attempts left.\")\n",
    "        "
   ]
  },
  {
   "cell_type": "code",
   "execution_count": 26,
   "id": "c97f81b6-62bf-44ec-b01c-d5ff0d8a17e2",
   "metadata": {},
   "outputs": [
    {
     "name": "stdout",
     "output_type": "stream",
     "text": [
      "1\n",
      "2\n",
      "3\n",
      "4\n",
      "6\n",
      "7\n",
      "8\n",
      "9\n"
     ]
    }
   ],
   "source": [
    "i=1\n",
    "for i in range(1,10):\n",
    "     if i == 5:\n",
    "        continue\n",
    "     if i==10:\n",
    "        break\n",
    "     print(i)"
   ]
  },
  {
   "cell_type": "code",
   "execution_count": 17,
   "id": "b1c75a90-1307-4f00-8e4c-d9f20231f8bc",
   "metadata": {},
   "outputs": [
    {
     "name": "stdin",
     "output_type": "stream",
     "text": [
      "Enter password:  jfkyfklg\n"
     ]
    },
    {
     "name": "stdout",
     "output_type": "stream",
     "text": [
      "Wrong password! attempts left. 4\n"
     ]
    },
    {
     "name": "stdin",
     "output_type": "stream",
     "text": [
      "Enter password:  ktyfkygukg\n"
     ]
    },
    {
     "name": "stdout",
     "output_type": "stream",
     "text": [
      "Wrong password! attempts left. 3\n"
     ]
    },
    {
     "name": "stdin",
     "output_type": "stream",
     "text": [
      "Enter password:  lyugughlkj\n"
     ]
    },
    {
     "name": "stdout",
     "output_type": "stream",
     "text": [
      "Wrong password! attempts left. 2\n"
     ]
    },
    {
     "name": "stdin",
     "output_type": "stream",
     "text": [
      "Enter password:  open123\n"
     ]
    },
    {
     "name": "stdout",
     "output_type": "stream",
     "text": [
      "Unlocked!\n"
     ]
    }
   ],
   "source": [
    "password = \"open123\"\n",
    "for i in range(1,6):\n",
    "    user_input = input(\"Enter password: \")\n",
    "    if user_input == \"forgot\":\n",
    "       print(\"Skipped\")\n",
    "    elif user_input ==5:\n",
    "       print(\"Locked!\") \n",
    "    elif password == user_input:\n",
    "       print(\"Unlocked!\")\n",
    "       break \n",
    "    else:\n",
    "        print(\"Wrong password! attempts left.\",5-i)\n",
    "        "
   ]
  },
  {
   "cell_type": "code",
   "execution_count": 20,
   "id": "b7f091a1-558e-4d3d-8f2f-3b382b54e206",
   "metadata": {},
   "outputs": [
    {
     "name": "stdout",
     "output_type": "stream",
     "text": [
      "P\n",
      "y\n",
      "t\n",
      "h\n"
     ]
    }
   ],
   "source": [
    "string = \"Python Programming\"\n",
    "\n",
    "for i in range(len(string)):\n",
    "    if string[i]=='o':\n",
    "        continue\n",
    "    if string [i]=='n':\n",
    "        break\n",
    "    print(string[i])"
   ]
  },
  {
   "cell_type": "code",
   "execution_count": 32,
   "id": "73d6af72-f8ea-4bf6-a136-70edbc38d09e",
   "metadata": {},
   "outputs": [
    {
     "name": "stdin",
     "output_type": "stream",
     "text": [
      "Enter a:  48\n",
      "Enter b:  93\n"
     ]
    },
    {
     "name": "stdout",
     "output_type": "stream",
     "text": [
      "Sum of both numbers is: 141\n"
     ]
    }
   ],
   "source": [
    "def addition(a,b):\n",
    "    sum=a+b\n",
    "    print(\"Sum of both numbers is:\", sum)\n",
    "    \n",
    "a=int(input(\"Enter a: \"))\n",
    "b=int(input(\"Enter b: \"))\n",
    "\n",
    "addition(a, b)"
   ]
  },
  {
   "cell_type": "code",
   "execution_count": null,
   "id": "d68893c1-7abd-4b3d-a6a7-5813e4393704",
   "metadata": {},
   "outputs": [],
   "source": [
    "# inverse of your name\n"
   ]
  }
 ],
 "metadata": {
  "kernelspec": {
   "display_name": "Python 3 (ipykernel)",
   "language": "python",
   "name": "python3"
  },
  "language_info": {
   "codemirror_mode": {
    "name": "ipython",
    "version": 3
   },
   "file_extension": ".py",
   "mimetype": "text/x-python",
   "name": "python",
   "nbconvert_exporter": "python",
   "pygments_lexer": "ipython3",
   "version": "3.13.5"
  }
 },
 "nbformat": 4,
 "nbformat_minor": 5
}
