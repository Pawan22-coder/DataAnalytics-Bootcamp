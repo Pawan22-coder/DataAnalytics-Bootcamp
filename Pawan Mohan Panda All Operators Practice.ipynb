{
 "cells": [
  {
   "cell_type": "code",
   "execution_count": null,
   "id": "0bc5a151-ea92-46cc-9a65-e07806c8d0af",
   "metadata": {},
   "outputs": [],
   "source": [
    "1. Assignment Operator"
   ]
  },
  {
   "cell_type": "code",
   "execution_count": 2,
   "id": "381b13ad-cbf0-4503-84ca-7f8ea97a5e01",
   "metadata": {},
   "outputs": [
    {
     "name": "stdout",
     "output_type": "stream",
     "text": [
      "15\n"
     ]
    }
   ],
   "source": [
    "x=7\n",
    "x+=8\n",
    "print(x)"
   ]
  },
  {
   "cell_type": "code",
   "execution_count": null,
   "id": "7bdff000-11f1-453b-9353-5e348d12b54b",
   "metadata": {},
   "outputs": [],
   "source": [
    "2. Arithmetic Operator"
   ]
  },
  {
   "cell_type": "code",
   "execution_count": 3,
   "id": "da3db649-25bc-4859-91af-c7ec7a8f2156",
   "metadata": {},
   "outputs": [
    {
     "name": "stdin",
     "output_type": "stream",
     "text": [
      "enter your first number 30\n",
      "enter your second number 20\n",
      "enter operator (+,-,*,/,%,//): *\n"
     ]
    },
    {
     "name": "stdout",
     "output_type": "stream",
     "text": [
      "600\n"
     ]
    }
   ],
   "source": [
    "a=int(input(\"enter your first number\"))\n",
    "b=int(input(\"enter your second number\"))\n",
    "c=input(\"enter operator (+,-,*,/,%,//):\")\n",
    "if c == \"+\":\n",
    "    print(a+b)\n",
    "elif c == \"-\":\n",
    "    print(a-b)\n",
    "elif c==\"*\":\n",
    "    print(a*b)\n",
    "elif c== \"/\":\n",
    "    print(a/b)\n",
    "elif c==\"%\":\n",
    "    print(a%b)\n",
    "elif c==\"//\":\n",
    "    print(a//b)\n",
    "else :\n",
    "    print(\"invalid operator\") "
   ]
  },
  {
   "cell_type": "code",
   "execution_count": null,
   "id": "c14189eb-937f-4c5f-a439-a67bd3fee60f",
   "metadata": {},
   "outputs": [],
   "source": [
    "3. Comparison Operator"
   ]
  },
  {
   "cell_type": "code",
   "execution_count": 4,
   "id": "eb89a8a8-ea21-4cc0-a27a-9c2ef31801eb",
   "metadata": {},
   "outputs": [
    {
     "name": "stdout",
     "output_type": "stream",
     "text": [
      "False\n",
      "False\n",
      "True\n",
      "True\n",
      "True\n",
      "False\n"
     ]
    }
   ],
   "source": [
    "x=8\n",
    "y=5\n",
    "print(x<y)\n",
    "print(x<=y)\n",
    "print(x>y)\n",
    "print(x>=y)\n",
    "print(x!=y)\n",
    "print(x==y)"
   ]
  },
  {
   "cell_type": "code",
   "execution_count": null,
   "id": "0d350398-3964-4732-a60d-15fc372fafac",
   "metadata": {},
   "outputs": [],
   "source": [
    "4. Logical Operator"
   ]
  },
  {
   "cell_type": "code",
   "execution_count": 5,
   "id": "38a9eeb1-8bca-4878-9bc9-62ce9d57de78",
   "metadata": {},
   "outputs": [
    {
     "name": "stdout",
     "output_type": "stream",
     "text": [
      "True\n",
      "True\n",
      "False\n"
     ]
    }
   ],
   "source": [
    "x=4\n",
    "print(x>2 and x<7)\n",
    "print(x>2 or x<6)\n",
    "print(not(x>2 and x<7))"
   ]
  },
  {
   "cell_type": "code",
   "execution_count": null,
   "id": "670fd6c7-81d6-48cd-b8ab-82b5547783f2",
   "metadata": {},
   "outputs": [],
   "source": [
    "5. Membership Operator"
   ]
  },
  {
   "cell_type": "code",
   "execution_count": 7,
   "id": "9079d5e8-12e7-4992-80dd-283055c37300",
   "metadata": {},
   "outputs": [
    {
     "name": "stdout",
     "output_type": "stream",
     "text": [
      "Lichi in the list\n",
      "mango not in list\n"
     ]
    }
   ],
   "source": [
    "fruits=[\"apple\",\"banana\",\"Lichi\",\"Pineapple\"]\n",
    "x=\"Lichi\"\n",
    "if x in fruits:\n",
    "    print(\"Lichi in the list\")\n",
    "y=\"mango\"\n",
    "if y not in fruits:\n",
    "    print(\"mango not in list\")"
   ]
  },
  {
   "cell_type": "code",
   "execution_count": null,
   "id": "51114411-b047-459c-9974-1da06ac519ec",
   "metadata": {},
   "outputs": [],
   "source": [
    "6. Identity Operator"
   ]
  },
  {
   "cell_type": "code",
   "execution_count": 8,
   "id": "28d610de-5f21-44e2-89e7-70179940eba7",
   "metadata": {},
   "outputs": [
    {
     "name": "stdout",
     "output_type": "stream",
     "text": [
      "False\n",
      "True\n"
     ]
    }
   ],
   "source": [
    "x = [\"Mango\", \"Lichi\"]\n",
    "y = [\"Mango\", \"Lichi\"]\n",
    "print (x is y)\n",
    "print (x is not y)"
   ]
  },
  {
   "cell_type": "code",
   "execution_count": null,
   "id": "ada4929b-7243-4428-a417-fcf3936c0f9f",
   "metadata": {},
   "outputs": [],
   "source": [
    "7. Bitwise Operator"
   ]
  },
  {
   "cell_type": "code",
   "execution_count": 9,
   "id": "2f157a2b-71b1-48c3-8e31-757fa817b01f",
   "metadata": {},
   "outputs": [
    {
     "name": "stdout",
     "output_type": "stream",
     "text": [
      "5\n",
      "13\n",
      "2\n",
      "-7\n"
     ]
    }
   ],
   "source": [
    "print(7 & 5)\n",
    "print(9 | 4)\n",
    "print(5 ^ 7)\n",
    "print(~6)"
   ]
  },
  {
   "cell_type": "code",
   "execution_count": null,
   "id": "47185cc7-fb4f-4dce-b7e3-e9e1fbb0d32a",
   "metadata": {},
   "outputs": [],
   "source": []
  }
 ],
 "metadata": {
  "kernelspec": {
   "display_name": "Python 3 (ipykernel)",
   "language": "python",
   "name": "python3"
  },
  "language_info": {
   "codemirror_mode": {
    "name": "ipython",
    "version": 3
   },
   "file_extension": ".py",
   "mimetype": "text/x-python",
   "name": "python",
   "nbconvert_exporter": "python",
   "pygments_lexer": "ipython3",
   "version": "3.13.5"
  }
 },
 "nbformat": 4,
 "nbformat_minor": 5
}
