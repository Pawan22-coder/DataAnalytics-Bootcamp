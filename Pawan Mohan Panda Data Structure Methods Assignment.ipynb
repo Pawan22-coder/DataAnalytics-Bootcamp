{
 "cells": [
  {
   "cell_type": "code",
   "execution_count": 1,
   "id": "fff1c36b-0970-484f-9448-fe72afb88f1f",
   "metadata": {},
   "outputs": [
    {
     "name": "stdin",
     "output_type": "stream",
     "text": [
      "Enter number 1:  3\n",
      "Enter number 2:  5\n",
      "Enter number 3:  8\n",
      "Enter number 4:  9\n",
      "Enter number 5:  2\n"
     ]
    },
    {
     "name": "stdout",
     "output_type": "stream",
     "text": [
      "[3, 5, 8, 9, 2]\n"
     ]
    }
   ],
   "source": [
    "numbers = []\n",
    "for i in range(5):\n",
    "    num = int(input(f\"Enter number {i+1}: \"))\n",
    "    numbers.append(num)\n",
    "print(numbers)"
   ]
  },
  {
   "cell_type": "code",
   "execution_count": 2,
   "id": "ddb3e689-bb3f-4548-969f-fc8bf7d087bd",
   "metadata": {},
   "outputs": [
    {
     "name": "stdout",
     "output_type": "stream",
     "text": [
      "[1, 2, 3, 4, 5, 6]\n"
     ]
    }
   ],
   "source": [
    "list1 = [1, 2, 3]\n",
    "list2 = [4, 5, 6]\n",
    "list1.extend(list2)\n",
    "print(list1)"
   ]
  },
  {
   "cell_type": "code",
   "execution_count": 3,
   "id": "990bcd81-a115-4e47-8a4b-e5b69e4a83dd",
   "metadata": {},
   "outputs": [
    {
     "name": "stdout",
     "output_type": "stream",
     "text": [
      "[10, 20, 25, 30, 40]\n"
     ]
    }
   ],
   "source": [
    "lst = [10, 20, 30, 40]\n",
    "lst.insert(2, 25)\n",
    "print(lst)"
   ]
  },
  {
   "cell_type": "code",
   "execution_count": 4,
   "id": "d9d1bd71-2d9c-4eca-8df5-5a1cacbdc137",
   "metadata": {},
   "outputs": [
    {
     "name": "stdout",
     "output_type": "stream",
     "text": [
      "[10, 30, 20, 40]\n"
     ]
    }
   ],
   "source": [
    "lst = [10, 20, 30, 20, 40]\n",
    "lst.remove(20)\n",
    "print(lst)"
   ]
  },
  {
   "cell_type": "code",
   "execution_count": 5,
   "id": "7eab8dae-1713-4300-bb87-2bb06f9bc757",
   "metadata": {},
   "outputs": [
    {
     "name": "stdout",
     "output_type": "stream",
     "text": [
      "5\n",
      "[1, 2, 3, 4]\n"
     ]
    }
   ],
   "source": [
    "lst = [1, 2, 3, 4, 5]\n",
    "popped = lst.pop()\n",
    "print(popped)\n",
    "print(lst)"
   ]
  },
  {
   "cell_type": "code",
   "execution_count": 6,
   "id": "41d7cf89-5954-4f06-babf-222cfbe33d65",
   "metadata": {},
   "outputs": [
    {
     "name": "stdout",
     "output_type": "stream",
     "text": [
      "2\n"
     ]
    }
   ],
   "source": [
    "lst = [5, 10, 15, 20, 25]\n",
    "idx = lst.index(15)\n",
    "print(idx)"
   ]
  },
  {
   "cell_type": "code",
   "execution_count": 7,
   "id": "70a90bfc-3de4-49d6-bac2-bfb553136361",
   "metadata": {},
   "outputs": [
    {
     "name": "stdout",
     "output_type": "stream",
     "text": [
      "4\n"
     ]
    }
   ],
   "source": [
    "lst = [1, 2, 2, 3, 2, 4, 2]\n",
    "count_2 = lst.count(2)\n",
    "print(count_2)"
   ]
  },
  {
   "cell_type": "code",
   "execution_count": 8,
   "id": "46585d52-005b-499e-a539-31019f0770cd",
   "metadata": {},
   "outputs": [
    {
     "name": "stdout",
     "output_type": "stream",
     "text": [
      "[3, 5, 7, 10]\n",
      "[10, 7, 5, 3]\n"
     ]
    }
   ],
   "source": [
    "lst = [10, 5, 7, 3]\n",
    "lst.sort()\n",
    "print(lst)\n",
    "lst.sort(reverse=True)\n",
    "print(lst)"
   ]
  },
  {
   "cell_type": "code",
   "execution_count": 9,
   "id": "2ce4f5ae-020a-419b-98be-af1eb0455703",
   "metadata": {},
   "outputs": [
    {
     "name": "stdout",
     "output_type": "stream",
     "text": [
      "[5, 4, 3, 2, 1]\n"
     ]
    }
   ],
   "source": [
    "lst = [1, 2, 3, 4, 5]\n",
    "lst.reverse()\n",
    "print(lst)"
   ]
  },
  {
   "cell_type": "code",
   "execution_count": 11,
   "id": "96f39f25-65bd-46e3-89c1-344e31eb4c11",
   "metadata": {},
   "outputs": [
    {
     "name": "stdout",
     "output_type": "stream",
     "text": [
      "original: [1, 2, 3]\n",
      "copied: [1, 2, 3, 4]\n"
     ]
    }
   ],
   "source": [
    "original = [1, 2, 3]\n",
    "copied = original.copy()\n",
    "copied.append(4)\n",
    "\n",
    "print(\"original:\", original)\n",
    "print(\"copied:\", copied)\n"
   ]
  },
  {
   "cell_type": "markdown",
   "id": "07549887-11ca-4244-a24a-496f35c18bb8",
   "metadata": {},
   "source": [
    "list=[]\n",
    "print(\"Enter 10 element\")\n",
    "for i in range(0,11):\n",
    "    n=int(input(\"Enter element\"))\n",
    "    list.append(n)\n",
    "\n",
    "print(list)\n",
    "list.sort()\n",
    "print(\"Second maximum elememt =\")\n",
    "print(list[-2])"
   ]
  },
  {
   "cell_type": "code",
   "execution_count": 2,
   "id": "be645699-8925-4216-9afa-dd43cea7a2b2",
   "metadata": {},
   "outputs": [
    {
     "name": "stdout",
     "output_type": "stream",
     "text": [
      "Only Odd numbers\n",
      "[1, 3, 5, 7, 9]\n"
     ]
    }
   ],
   "source": [
    "lst1=[1,2,3,4,5,6,7,8,9]\n",
    "lst2=[n for n in lst1 if n%2!=0]\n",
    "print(\"Only Odd numbers\")\n",
    "print(lst2)"
   ]
  },
  {
   "cell_type": "code",
   "execution_count": 5,
   "id": "ac84b9fe-5f52-4683-b783-687d8305f03b",
   "metadata": {},
   "outputs": [
    {
     "name": "stdout",
     "output_type": "stream",
     "text": [
      "[1, 2, 3, 4, 5, 6, 7, 8, 9]\n",
      "[1, 3, 4, 5, 6, 7, 8, 9]\n",
      "[1, 3, 5, 6, 7, 8, 9]\n",
      "[1, 3, 5, 7, 8, 9]\n",
      "[1, 3, 5, 7, 9]\n"
     ]
    }
   ],
   "source": [
    "lst1=[1,2,3,4,5,6,7,8,9]\n",
    "for i in lst1:\n",
    "    if i%2==0:\n",
    "        lst1.remove(i)\n",
    "    print(lst1)"
   ]
  },
  {
   "cell_type": "code",
   "execution_count": 6,
   "id": "f1646f94-017d-4db9-a731-c67b2c71bb31",
   "metadata": {},
   "outputs": [
    {
     "data": {
      "text/plain": [
       "3"
      ]
     },
     "execution_count": 6,
     "metadata": {},
     "output_type": "execute_result"
    }
   ],
   "source": [
    "#Tuples\n",
    "d=tuple('a string with many \"a\"string.')\n",
    "d.count('a')"
   ]
  },
  {
   "cell_type": "code",
   "execution_count": 7,
   "id": "d6438635-8099-40b5-a772-b9f7cbad2c3c",
   "metadata": {},
   "outputs": [
    {
     "data": {
      "text/plain": [
       "0"
      ]
     },
     "execution_count": 7,
     "metadata": {},
     "output_type": "execute_result"
    }
   ],
   "source": [
    "d.index('a')"
   ]
  },
  {
   "cell_type": "code",
   "execution_count": null,
   "id": "b46e2534-20a9-4977-abe6-8a793de95a0b",
   "metadata": {},
   "outputs": [],
   "source": []
  }
 ],
 "metadata": {
  "kernelspec": {
   "display_name": "Python 3 (ipykernel)",
   "language": "python",
   "name": "python3"
  },
  "language_info": {
   "codemirror_mode": {
    "name": "ipython",
    "version": 3
   },
   "file_extension": ".py",
   "mimetype": "text/x-python",
   "name": "python",
   "nbconvert_exporter": "python",
   "pygments_lexer": "ipython3",
   "version": "3.13.5"
  }
 },
 "nbformat": 4,
 "nbformat_minor": 5
}
