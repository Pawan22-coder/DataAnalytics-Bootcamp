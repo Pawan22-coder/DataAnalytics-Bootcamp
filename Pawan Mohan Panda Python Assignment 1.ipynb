{
 "cells": [
  {
   "cell_type": "code",
   "execution_count": 7,
   "id": "395a86d2-5aed-47ca-8371-81abbeb4e83d",
   "metadata": {},
   "outputs": [
    {
     "name": "stdout",
     "output_type": "stream",
     "text": [
      "40\n"
     ]
    }
   ],
   "source": [
    "#1. 1. Variable Assignment & Sum\n",
    "#Write a Python program to assign 15 to num1 and 25 to num2. Then, compute and print their sum.\n",
    "\n",
    "\n",
    "# In[1]:\n",
    "#Ans\n",
    "\n",
    "\n",
    "num1=15\n",
    "num2=25\n",
    "c=num1+num2\n",
    "print(c)"
   ]
  },
  {
   "cell_type": "code",
   "execution_count": 8,
   "id": "282e9bda-45f6-4670-8a67-d5d2342a46c5",
   "metadata": {},
   "outputs": [
    {
     "name": "stdout",
     "output_type": "stream",
     "text": [
      "differnce of 50 and 18 is: 32\n",
      "product of 12 and 7 is: 84\n"
     ]
    }
   ],
   "source": [
    "# 2. Difference & Product\n",
    "# Write a Python program that calculates:\n",
    "# •\tThe difference between 50 and 18.\n",
    "# •\tThe product of 12 and 7.\n",
    "# Print both results.\n",
    "#Ans\n",
    "difference= 50-18\n",
    "product= 12*7\n",
    "print(\"differnce of 50 and 18 is:\",difference)\n",
    "print(\"product of 12 and 7 is:\",product)"
   ]
  },
  {
   "cell_type": "code",
   "execution_count": 9,
   "id": "585414e0-a09f-48ac-8a8f-28ab9c0609ed",
   "metadata": {},
   "outputs": [
    {
     "name": "stdout",
     "output_type": "stream",
     "text": [
      "division: 33.333333333333336\n",
      "modulus: 1\n"
     ]
    }
   ],
   "source": [
    "# 3. Division & Modulus\n",
    "# Write a Python program to compute:\n",
    "# •\tThe result of 100 divided by 3 (as a float).\n",
    "# •\tThe remainder when 100 is divided by 3 (using %).\n",
    "# Print both results.\n",
    "#Ans\n",
    "a=100\n",
    "b=3\n",
    "c=a/b\n",
    "d=a%b\n",
    "print(\"division:\",c)\n",
    "print(\"modulus:\",d)"
   ]
  },
  {
   "cell_type": "code",
   "execution_count": 10,
   "id": "f05b9fcf-f6ef-4d6c-aae2-073c426414e3",
   "metadata": {},
   "outputs": [
    {
     "name": "stdout",
     "output_type": "stream",
     "text": [
      "True\n",
      "False\n",
      "True\n"
     ]
    }
   ],
   "source": [
    "#4 boolean expresssion \n",
    "#evaluate and print the following boolean expression:\n",
    "# (5+3)>(10-4)\n",
    "# (20/12)==10\n",
    "# (7<5) or (9!=8)\n",
    "#Ans\n",
    "print ((5+3)>(10-4))\n",
    "print ((20/12)==10)\n",
    "print ((7<5) or (9!=8))"
   ]
  },
  {
   "cell_type": "code",
   "execution_count": 11,
   "id": "eb0beb23-16b1-4fd6-8305-f2039860a480",
   "metadata": {},
   "outputs": [
    {
     "name": "stdout",
     "output_type": "stream",
     "text": [
      "45\n",
      "33.0\n"
     ]
    }
   ],
   "source": [
    "# 5. Type Conversion\n",
    "# Write a Python program to:\n",
    "# •\tConvert 45.8 (float) to an integer.\n",
    "# •\tConvert 33 (integer) to a float.\n",
    "# Print both converted values\n",
    "#Ans\n",
    "x=int(45.8)\n",
    "y=float(33)\n",
    "print(x)\n",
    "print(y)"
   ]
  },
  {
   "cell_type": "code",
   "execution_count": 14,
   "id": "a49f9acf-4ced-46cb-85e5-1b163ca26c58",
   "metadata": {},
   "outputs": [
    {
     "name": "stdout",
     "output_type": "stream",
     "text": [
      "20.0\n"
     ]
    }
   ],
   "source": [
    "# 6. Average of Three Numbers\n",
    "# Write a Python program that takes three numbers (a = 10, b = 20, c = 30) and computes their average. Print the result.\n",
    "#Ans\n",
    "a=10\n",
    "b=20\n",
    "c=30\n",
    "average = (a+b+c)/3\n",
    "print(average)"
   ]
  },
  {
   "cell_type": "code",
   "execution_count": 15,
   "id": "17e224e8-7486-4b40-9689-7774f94cef07",
   "metadata": {},
   "outputs": [
    {
     "name": "stdout",
     "output_type": "stream",
     "text": [
      "125\n"
     ]
    }
   ],
   "source": [
    "# 7.  Power Calculation\n",
    "# Write a Python program to compute 5 raised to the power of 3 (use the ** operator). Print the result.\n",
    "#Ans\n",
    "a=5\n",
    "b=3\n",
    "c=a**b\n",
    "print(c)\n"
   ]
  },
  {
   "cell_type": "code",
   "execution_count": 16,
   "id": "feafa972-4718-4ac5-a915-0b7ffad9844e",
   "metadata": {},
   "outputs": [
    {
     "name": "stdout",
     "output_type": "stream",
     "text": [
      "temperature in celsuisu: 37.0\n"
     ]
    }
   ],
   "source": [
    "# 8. Temperature Conversion\n",
    "# Write a Python program to convert 98.6 (Fahrenheit) to Celsius using the formula:\n",
    "# Celsius = (Fahrenheit - 32) * (5/9)\n",
    "# Print the result.\n",
    "#Ans\n",
    "Fahrenheit=98.6\n",
    "Celsius = (Fahrenheit - 32) * (5/9)\n",
    "print(\"temperature in celsuisu:\",Celsius)"
   ]
  },
  {
   "cell_type": "code",
   "execution_count": 17,
   "id": "6776832e-8613-4525-b017-1a452761a9fc",
   "metadata": {},
   "outputs": [
    {
     "name": "stdout",
     "output_type": "stream",
     "text": [
      "simple interest: 100.0\n"
     ]
    }
   ],
   "source": [
    "# 9. Simple Interest Calculation\n",
    "# Given:\n",
    "# •\tPrincipal (P) = 1000\n",
    "# •\tRate (R) = 5\n",
    "# •\tTime (T) = 2\n",
    "# Calculate Simple Interest using the formula:\n",
    "# SI = (P * R * T) / 100\n",
    "# Print the result.\n",
    "#Ans\n",
    "\n",
    "# P stand for principal\n",
    "P=1000\n",
    "# R stand for rate\n",
    "R=5\n",
    "# T stand for 2\n",
    "T=2\n",
    "simple_interest=(P*R*T)/100\n",
    "print(\"simple interest:\",simple_interest)"
   ]
  },
  {
   "cell_type": "code",
   "execution_count": 18,
   "id": "d2635cea-0295-47a8-9362-bcc9acf27406",
   "metadata": {},
   "outputs": [
    {
     "name": "stdout",
     "output_type": "stream",
     "text": [
      "60.0\n"
     ]
    }
   ],
   "source": [
    "# 10. Mixed Arithmetic\n",
    "# Compute and print the result of the following expression:\n",
    "# (15 + 5) * (20 - 8) / 4\n",
    "#Ans\n",
    "\n",
    "x= (15+5) * (20-8) /4\n",
    "print(x)"
   ]
  },
  {
   "cell_type": "code",
   "execution_count": null,
   "id": "2fa98ada-7e32-410b-b038-2011bb4e64e9",
   "metadata": {},
   "outputs": [],
   "source": []
  }
 ],
 "metadata": {
  "kernelspec": {
   "display_name": "Python 3 (ipykernel)",
   "language": "python",
   "name": "python3"
  },
  "language_info": {
   "codemirror_mode": {
    "name": "ipython",
    "version": 3
   },
   "file_extension": ".py",
   "mimetype": "text/x-python",
   "name": "python",
   "nbconvert_exporter": "python",
   "pygments_lexer": "ipython3",
   "version": "3.13.5"
  }
 },
 "nbformat": 4,
 "nbformat_minor": 5
}
